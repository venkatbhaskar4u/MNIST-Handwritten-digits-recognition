{
 "cells": [
  {
   "cell_type": "code",
   "execution_count": 9,
   "metadata": {
    "id": "1iQzRvH2Tj5K"
   },
   "outputs": [],
   "source": [
    "import numpy as np\n",
    "import pandas as pd\n",
    "import tensorflow as tf\n",
    "from tensorflow import keras\n",
    "from tensorflow.keras import Sequential\n",
    "from tensorflow.keras.layers import Conv2D\n",
    "from sklearn.model_selection import train_test_split\n",
    "from keras.models import Sequential"
   ]
  },
  {
   "cell_type": "markdown",
   "metadata": {
    "id": "wZ16XnPiT90q"
   },
   "source": [
    "Importing dataset"
   ]
  },
  {
   "cell_type": "code",
   "execution_count": 1,
   "metadata": {
    "id": "NbLF36vVT8Ku"
   },
   "outputs": [],
   "source": [
    "from tensorflow.keras.datasets import mnist"
   ]
  },
  {
   "cell_type": "code",
   "execution_count": 28,
   "metadata": {
    "id": "rkDZ9irnUT8N"
   },
   "outputs": [],
   "source": [
    "(train_X,train_y),(test_X,test_y)=mnist.load_data()"
   ]
  },
  {
   "cell_type": "code",
   "execution_count": 29,
   "metadata": {
    "colab": {
     "base_uri": "https://localhost:8080/"
    },
    "id": "4-CAwfujUpb6",
    "outputId": "12e25a38-9935-46da-f6a8-b307caaf74a8"
   },
   "outputs": [
    {
     "name": "stdout",
     "output_type": "stream",
     "text": [
      "[0 1 2 3 4 5 6 7 8 9]\n"
     ]
    }
   ],
   "source": [
    "print(np.unique(train_y))"
   ]
  },
  {
   "cell_type": "code",
   "execution_count": 30,
   "metadata": {
    "id": "GnfTNfu3Vpzz"
   },
   "outputs": [],
   "source": [
    "from tensorflow.keras.utils import to_categorical\n",
    "y_train=to_categorical(train_y)\n",
    "y_test=to_categorical(test_y)"
   ]
  },
  {
   "cell_type": "code",
   "execution_count": 31,
   "metadata": {
    "id": "wIkCusS2V27h"
   },
   "outputs": [],
   "source": [
    "train_X=train_X.reshape(60000,784)\n",
    "test_X=test_X.reshape(10000,784)\n",
    "train_X=train_X.astype('float32')\n",
    "test_X=test_X.astype('float32')\n",
    "train_X/=255.0\n",
    "test_X/=255.0"
   ]
  },
  {
   "cell_type": "code",
   "execution_count": 33,
   "metadata": {
    "colab": {
     "base_uri": "https://localhost:8080/"
    },
    "id": "VlPMqwkjWcBp",
    "outputId": "0d04c2ff-ff66-4a6a-d9d1-3b4b074c211b"
   },
   "outputs": [
    {
     "name": "stdout",
     "output_type": "stream",
     "text": [
      "Model: \"sequential_3\"\n",
      "_________________________________________________________________\n",
      " Layer (type)                Output Shape              Param #   \n",
      "=================================================================\n",
      " dense_15 (Dense)            (None, 512)               401920    \n",
      "                                                                 \n",
      " dropout_12 (Dropout)        (None, 512)               0         \n",
      "                                                                 \n",
      " dense_16 (Dense)            (None, 256)               131328    \n",
      "                                                                 \n",
      " dropout_13 (Dropout)        (None, 256)               0         \n",
      "                                                                 \n",
      " dense_17 (Dense)            (None, 128)               32896     \n",
      "                                                                 \n",
      " dropout_14 (Dropout)        (None, 128)               0         \n",
      "                                                                 \n",
      " dense_18 (Dense)            (None, 64)                8256      \n",
      "                                                                 \n",
      " dropout_15 (Dropout)        (None, 64)                0         \n",
      "                                                                 \n",
      " dense_19 (Dense)            (None, 10)                650       \n",
      "                                                                 \n",
      "=================================================================\n",
      "Total params: 575,050\n",
      "Trainable params: 575,050\n",
      "Non-trainable params: 0\n",
      "_________________________________________________________________\n",
      "None\n",
      "Epoch 1/20\n",
      "469/469 [==============================] - 8s 16ms/step - loss: 0.3606 - accuracy: 0.8895 - val_loss: 0.1152 - val_accuracy: 0.9656\n",
      "Epoch 2/20\n",
      "469/469 [==============================] - 8s 17ms/step - loss: 0.1422 - accuracy: 0.9593 - val_loss: 0.0944 - val_accuracy: 0.9727\n",
      "Epoch 3/20\n",
      "469/469 [==============================] - 8s 18ms/step - loss: 0.1051 - accuracy: 0.9705 - val_loss: 0.0784 - val_accuracy: 0.9775\n",
      "Epoch 4/20\n",
      "469/469 [==============================] - 7s 15ms/step - loss: 0.0805 - accuracy: 0.9770 - val_loss: 0.0796 - val_accuracy: 0.9773\n",
      "Epoch 5/20\n",
      "469/469 [==============================] - 7s 15ms/step - loss: 0.0712 - accuracy: 0.9795 - val_loss: 0.0727 - val_accuracy: 0.9811\n",
      "Epoch 6/20\n",
      "469/469 [==============================] - 7s 15ms/step - loss: 0.0612 - accuracy: 0.9820 - val_loss: 0.0635 - val_accuracy: 0.9807\n",
      "Epoch 7/20\n",
      "469/469 [==============================] - 7s 15ms/step - loss: 0.0544 - accuracy: 0.9846 - val_loss: 0.0761 - val_accuracy: 0.9791\n",
      "Epoch 8/20\n",
      "469/469 [==============================] - 7s 15ms/step - loss: 0.0472 - accuracy: 0.9860 - val_loss: 0.0743 - val_accuracy: 0.9809\n",
      "Epoch 9/20\n",
      "469/469 [==============================] - 7s 15ms/step - loss: 0.0412 - accuracy: 0.9874 - val_loss: 0.0769 - val_accuracy: 0.9808\n",
      "Epoch 10/20\n",
      "469/469 [==============================] - 7s 15ms/step - loss: 0.0399 - accuracy: 0.9883 - val_loss: 0.0791 - val_accuracy: 0.9782\n",
      "Epoch 11/20\n",
      "469/469 [==============================] - 7s 15ms/step - loss: 0.0353 - accuracy: 0.9892 - val_loss: 0.0690 - val_accuracy: 0.9824\n",
      "Epoch 12/20\n",
      "469/469 [==============================] - 7s 15ms/step - loss: 0.0341 - accuracy: 0.9896 - val_loss: 0.0715 - val_accuracy: 0.9826\n",
      "Epoch 13/20\n",
      "469/469 [==============================] - 7s 15ms/step - loss: 0.0327 - accuracy: 0.9901 - val_loss: 0.0716 - val_accuracy: 0.9826\n",
      "Epoch 14/20\n",
      "469/469 [==============================] - 7s 15ms/step - loss: 0.0312 - accuracy: 0.9906 - val_loss: 0.0668 - val_accuracy: 0.9830\n",
      "Epoch 15/20\n",
      "469/469 [==============================] - 7s 15ms/step - loss: 0.0277 - accuracy: 0.9918 - val_loss: 0.0876 - val_accuracy: 0.9813\n",
      "Epoch 16/20\n",
      "469/469 [==============================] - 7s 15ms/step - loss: 0.0254 - accuracy: 0.9923 - val_loss: 0.0775 - val_accuracy: 0.9829\n",
      "Epoch 17/20\n",
      "469/469 [==============================] - 7s 15ms/step - loss: 0.0248 - accuracy: 0.9927 - val_loss: 0.0787 - val_accuracy: 0.9819\n",
      "Epoch 18/20\n",
      "469/469 [==============================] - 7s 15ms/step - loss: 0.0231 - accuracy: 0.9930 - val_loss: 0.0785 - val_accuracy: 0.9826\n",
      "Epoch 19/20\n",
      "469/469 [==============================] - 7s 15ms/step - loss: 0.0236 - accuracy: 0.9929 - val_loss: 0.0771 - val_accuracy: 0.9825\n",
      "Epoch 20/20\n",
      "469/469 [==============================] - 7s 15ms/step - loss: 0.0219 - accuracy: 0.9930 - val_loss: 0.0811 - val_accuracy: 0.9822\n"
     ]
    }
   ],
   "source": [
    "model=keras.models.Sequential([\n",
    "                         keras.layers.Dense(512,activation='relu',input_shape=(784,)),\n",
    "                         keras.layers.Dropout(0.2),\n",
    "                         keras.layers.Dense(256,activation='relu'),\n",
    "                         keras.layers.Dropout(0.2),\n",
    "                         keras.layers.Dense(128,activation='relu'),\n",
    "                         keras.layers.Dropout(0.2),\n",
    "                         keras.layers.Dense(64,activation='relu'),\n",
    "                         keras.layers.Dropout(0.2),\n",
    "                         keras.layers.Dense(10,activation='softmax')\n",
    "])\n",
    "print(model.summary())\n",
    "model_history=trainModel(model=model,epochs=20,optimizer='adam')"
   ]
  },
  {
   "cell_type": "code",
   "execution_count": 32,
   "metadata": {
    "id": "ZIkqsgUMXYEZ"
   },
   "outputs": [],
   "source": [
    "def trainModel(model,epochs,optimizer):\n",
    "  batch_size=128\n",
    "  model.compile(optimizer=optimizer,\n",
    "                loss='sparse_categorical_crossentropy',\n",
    "                metrics='accuracy')\n",
    "  return model.fit(train_X,train_y,validation_data=(test_X,test_y),epochs=epochs,batch_size=batch_size)"
   ]
  },
  {
   "cell_type": "code",
   "execution_count": 34,
   "metadata": {
    "colab": {
     "base_uri": "https://localhost:8080/"
    },
    "id": "xrP73gBTYaVs",
    "outputId": "cb322c82-9966-4307-e5f8-2f9497d2c964"
   },
   "outputs": [
    {
     "name": "stdout",
     "output_type": "stream",
     "text": [
      "79/79 [==============================] - 0s 6ms/step - loss: 0.0811 - accuracy: 0.9822\n"
     ]
    }
   ],
   "source": [
    "test_loss,test_acc=model.evaluate(test_X,test_y,batch_size=128)"
   ]
  },
  {
   "cell_type": "code",
   "execution_count": 35,
   "metadata": {
    "colab": {
     "base_uri": "https://localhost:8080/"
    },
    "id": "5nUF-jqAZWQ_",
    "outputId": "3a18b582-de3c-46cf-bf22-310231370f7a"
   },
   "outputs": [
    {
     "name": "stdout",
     "output_type": "stream",
     "text": [
      "dict_keys(['loss', 'accuracy', 'val_loss', 'val_accuracy'])\n"
     ]
    }
   ],
   "source": [
    "print(model_history.history.keys())"
   ]
  },
  {
   "cell_type": "code",
   "execution_count": 36,
   "metadata": {
    "colab": {
     "base_uri": "https://localhost:8080/",
     "height": 295
    },
    "id": "tVX8DyVPZYvZ",
    "outputId": "808048fc-e95a-46e6-ba98-56c593c54ec3"
   },
   "outputs": [
    {
     "data": {
      "image/png": "[encoded data removed]",
      "text/plain": [
       "<Figure size 432x288 with 1 Axes>"
      ]
     },
     "metadata": {
      "needs_background": "light"
     },
     "output_type": "display_data"
    }
   ],
   "source": [
    "import matplotlib.pyplot as plt\n",
    "plt.plot(model_history.history['accuracy'])\n",
    "plt.plot(model_history.history['val_accuracy'])\n",
    "plt.title('Accuracy Graph')\n",
    "plt.xlabel('Epoch')\n",
    "plt.ylabel('accuracy')\n",
    "plt.legend(['Training_Data','Test_Data'],loc='upper right')\n",
    "plt.show()"
   ]
  },
  {
   "cell_type": "code",
   "execution_count": 37,
   "metadata": {
    "colab": {
     "base_uri": "https://localhost:8080/",
     "height": 295
    },
    "id": "4S_E1li_ZbQB",
    "outputId": "3d9de837-a403-4f84-8ebf-d4dd3b3b433e"
   },
   "outputs": [
    {
     "data": {
      "image/png": "[encoded data removed]",
      "text/plain": [
       "<Figure size 432x288 with 1 Axes>"
      ]
     },
     "metadata": {
      "needs_background": "light"
     },
     "output_type": "display_data"
    }
   ],
   "source": [
    "import matplotlib.pyplot as plt\n",
    "plt.plot(model_history.history['loss'])\n",
    "plt.plot(model_history.history['val_loss'])\n",
    "plt.title('Loss Graph')\n",
    "plt.xlabel('Epoch')\n",
    "plt.ylabel('loss')\n",
    "plt.legend(['Training_Data','Test_Data'],loc='upper right')\n",
    "plt.show()"
   ]
  },
  {
   "cell_type": "code",
   "execution_count": 39,
   "metadata": {
    "colab": {
     "base_uri": "https://localhost:8080/"
    },
    "id": "Mf7lUXl9aOBw",
    "outputId": "1c7bcb28-4e42-4742-c360-7021dfc01253"
   },
   "outputs": [
    {
     "name": "stdout",
     "output_type": "stream",
     "text": [
      "Model: \"sequential_4\"\n",
      "_________________________________________________________________\n",
      " Layer (type)                Output Shape              Param #   \n",
      "=================================================================\n",
      " dense_20 (Dense)            (None, 1024)              803840    \n",
      "                                                                 \n",
      " dropout_16 (Dropout)        (None, 1024)              0         \n",
      "                                                                 \n",
      " dense_21 (Dense)            (None, 512)               524800    \n",
      "                                                                 \n",
      " dropout_17 (Dropout)        (None, 512)               0         \n",
      "                                                                 \n",
      " dense_22 (Dense)            (None, 256)               131328    \n",
      "                                                                 \n",
      " dropout_18 (Dropout)        (None, 256)               0         \n",
      "                                                                 \n",
      " dense_23 (Dense)            (None, 128)               32896     \n",
      "                                                                 \n",
      " dropout_19 (Dropout)        (None, 128)               0         \n",
      "                                                                 \n",
      " dense_24 (Dense)            (None, 64)                8256      \n",
      "                                                                 \n",
      " dropout_20 (Dropout)        (None, 64)                0         \n",
      "                                                                 \n",
      " dense_25 (Dense)            (None, 10)                650       \n",
      "                                                                 \n",
      "=================================================================\n",
      "Total params: 1,501,770\n",
      "Trainable params: 1,501,770\n",
      "Non-trainable params: 0\n",
      "_________________________________________________________________\n",
      "None\n",
      "Epoch 1/20\n",
      "469/469 [==============================] - 18s 38ms/step - loss: 0.3543 - accuracy: 0.8948 - val_loss: 0.1155 - val_accuracy: 0.9656\n",
      "Epoch 2/20\n",
      "469/469 [==============================] - 17s 36ms/step - loss: 0.1405 - accuracy: 0.9617 - val_loss: 0.0942 - val_accuracy: 0.9742\n",
      "Epoch 3/20\n",
      "469/469 [==============================] - 17s 36ms/step - loss: 0.1016 - accuracy: 0.9729 - val_loss: 0.0884 - val_accuracy: 0.9772\n",
      "Epoch 4/20\n",
      "469/469 [==============================] - 17s 36ms/step - loss: 0.0826 - accuracy: 0.9773 - val_loss: 0.0851 - val_accuracy: 0.9788\n",
      "Epoch 5/20\n",
      "469/469 [==============================] - 17s 36ms/step - loss: 0.0681 - accuracy: 0.9813 - val_loss: 0.0826 - val_accuracy: 0.9763\n",
      "Epoch 6/20\n",
      "469/469 [==============================] - 17s 36ms/step - loss: 0.0591 - accuracy: 0.9832 - val_loss: 0.0786 - val_accuracy: 0.9792\n",
      "Epoch 7/20\n",
      "469/469 [==============================] - 17s 36ms/step - loss: 0.0547 - accuracy: 0.9852 - val_loss: 0.0758 - val_accuracy: 0.9795\n",
      "Epoch 8/20\n",
      "469/469 [==============================] - 17s 36ms/step - loss: 0.0453 - accuracy: 0.9872 - val_loss: 0.0717 - val_accuracy: 0.9827\n",
      "Epoch 9/20\n",
      "469/469 [==============================] - 17s 36ms/step - loss: 0.0403 - accuracy: 0.9885 - val_loss: 0.0858 - val_accuracy: 0.9807\n",
      "Epoch 10/20\n",
      "469/469 [==============================] - 17s 36ms/step - loss: 0.0401 - accuracy: 0.9888 - val_loss: 0.0887 - val_accuracy: 0.9817\n",
      "Epoch 11/20\n",
      "469/469 [==============================] - 17s 36ms/step - loss: 0.0365 - accuracy: 0.9900 - val_loss: 0.0729 - val_accuracy: 0.9831\n",
      "Epoch 12/20\n",
      "469/469 [==============================] - 17s 36ms/step - loss: 0.0324 - accuracy: 0.9912 - val_loss: 0.0758 - val_accuracy: 0.9833\n",
      "Epoch 13/20\n",
      "469/469 [==============================] - 17s 36ms/step - loss: 0.0351 - accuracy: 0.9904 - val_loss: 0.0807 - val_accuracy: 0.9825\n",
      "Epoch 14/20\n",
      "469/469 [==============================] - 17s 36ms/step - loss: 0.0289 - accuracy: 0.9924 - val_loss: 0.0773 - val_accuracy: 0.9838\n",
      "Epoch 15/20\n",
      "469/469 [==============================] - 17s 36ms/step - loss: 0.0280 - accuracy: 0.9919 - val_loss: 0.0878 - val_accuracy: 0.9832\n",
      "Epoch 16/20\n",
      "469/469 [==============================] - 17s 36ms/step - loss: 0.0284 - accuracy: 0.9922 - val_loss: 0.0901 - val_accuracy: 0.9829\n",
      "Epoch 17/20\n",
      "469/469 [==============================] - 17s 36ms/step - loss: 0.0275 - accuracy: 0.9929 - val_loss: 0.1092 - val_accuracy: 0.9811\n",
      "Epoch 18/20\n",
      "469/469 [==============================] - 17s 36ms/step - loss: 0.0232 - accuracy: 0.9935 - val_loss: 0.0867 - val_accuracy: 0.9829\n",
      "Epoch 19/20\n",
      "469/469 [==============================] - 17s 36ms/step - loss: 0.0232 - accuracy: 0.9932 - val_loss: 0.0899 - val_accuracy: 0.9834\n",
      "Epoch 20/20\n",
      "469/469 [==============================] - 17s 36ms/step - loss: 0.0227 - accuracy: 0.9942 - val_loss: 0.1005 - val_accuracy: 0.9802\n"
     ]
    }
   ],
   "source": [
    "model=keras.models.Sequential([\n",
    "                         keras.layers.Dense(1024,activation='relu',input_shape=(784,)),\n",
    "                         keras.layers.Dropout(0.2),\n",
    "                         keras.layers.Dense(512,activation='relu'),\n",
    "                         keras.layers.Dropout(0.2),\n",
    "                         keras.layers.Dense(256,activation='relu'),\n",
    "                         keras.layers.Dropout(0.2),\n",
    "                         keras.layers.Dense(128,activation='relu'),\n",
    "                         keras.layers.Dropout(0.2),\n",
    "                         keras.layers.Dense(64,activation='relu'),\n",
    "                         keras.layers.Dropout(0.2),\n",
    "                         keras.layers.Dense(10,activation='softmax')\n",
    "])\n",
    "print(model.summary())\n",
    "model_history=trainModel(model=model,epochs=20,optimizer='adam')"
   ]
  },
  {
   "cell_type": "code",
   "execution_count": 40,
   "metadata": {
    "colab": {
     "base_uri": "https://localhost:8080/"
    },
    "id": "QPodcYfLazA6",
    "outputId": "510b9134-0a96-4b93-d196-d2e57f0a606a"
   },
   "outputs": [
    {
     "name": "stdout",
     "output_type": "stream",
     "text": [
      "79/79 [==============================] - 1s 11ms/step - loss: 0.1005 - accuracy: 0.9802\n"
     ]
    }
   ],
   "source": [
    "test_loss,test_acc=model.evaluate(test_X,test_y,batch_size=128)"
   ]
  },
  {
   "cell_type": "code",
   "execution_count": 41,
   "metadata": {
    "colab": {
     "base_uri": "https://localhost:8080/",
     "height": 295
    },
    "id": "mIR9_ocmcPVP",
    "outputId": "79b25b96-ac48-4205-852e-7c85e73d99d4"
   },
   "outputs": [
    {
     "data": {
      "image/png": "[encoded data removed]",
      "text/plain": [
       "<Figure size 432x288 with 1 Axes>"
      ]
     },
     "metadata": {
      "needs_background": "light"
     },
     "output_type": "display_data"
    }
   ],
   "source": [
    "import matplotlib.pyplot as plt\n",
    "plt.plot(model_history.history['accuracy'])\n",
    "plt.plot(model_history.history['val_accuracy'])\n",
    "plt.title('Accuracy Graph')\n",
    "plt.xlabel('Epoch')\n",
    "plt.ylabel('accuracy')\n",
    "plt.legend(['Training_Data','Test_Data'],loc='upper right')\n",
    "plt.show()"
   ]
  },
  {
   "cell_type": "code",
   "execution_count": 42,
   "metadata": {
    "colab": {
     "base_uri": "https://localhost:8080/",
     "height": 295
    },
    "id": "E6MIuJdqcVMP",
    "outputId": "8a218869-498b-4008-955c-58d674c5692b"
   },
   "outputs": [
    {
     "data": {
      "image/png": "[encoded data removed]",
      "text/plain": [
       "<Figure size 432x288 with 1 Axes>"
      ]
     },
     "metadata": {
      "needs_background": "light"
     },
     "output_type": "display_data"
    }
   ],
   "source": [
    "import matplotlib.pyplot as plt\n",
    "plt.plot(model_history.history['loss'])\n",
    "plt.plot(model_history.history['val_loss'])\n",
    "plt.title('Loss Graph')\n",
    "plt.xlabel('Epoch')\n",
    "plt.ylabel('loss')\n",
    "plt.legend(['Training_Data','Test_Data'],loc='upper right')\n",
    "plt.show()"
   ]
  }
 ],
 "metadata": {
  "colab": {
   "collapsed_sections": [],
   "name": "DL-Assignment1.ipynb",
   "provenance": []
  },
  "kernelspec": {
   "display_name": "Python 3 (ipykernel)",
   "language": "python",
   "name": "python3"
  },
  "language_info": {
   "codemirror_mode": {
    "name": "ipython",
    "version": 3
   },
   "file_extension": ".py",
   "mimetype": "text/x-python",
   "name": "python",
   "nbconvert_exporter": "python",
   "pygments_lexer": "ipython3",
   "version": "3.9.13"
  }
 },
 "nbformat": 4,
 "nbformat_minor": 1
}
